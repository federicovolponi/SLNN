{
  "nbformat": 4,
  "nbformat_minor": 0,
  "metadata": {
    "colab": {
      "provenance": [],
      "collapsed_sections": []
    },
    "kernelspec": {
      "name": "python3",
      "display_name": "Python 3"
    },
    "language_info": {
      "name": "python"
    }
  },
  "cells": [
    {
      "cell_type": "markdown",
      "source": [
        "**STATISTICAL LEARNING AND NEURAL NETWORKS, A.A. 2022/2023**\n",
        "\n",
        "**COMPUTER LAB 1** - k-NN classifier\n",
        "\n",
        "**Duration: 6 hours**"
      ],
      "metadata": {
        "id": "w01Aikz9Pk04"
      }
    },
    {
      "cell_type": "code",
      "source": [
        "from google.colab import drive\n",
        "drive.mount('/content/drive')"
      ],
      "metadata": {
        "colab": {
          "base_uri": "https://localhost:8080/"
        },
        "id": "Yw0q3gPR9wLB",
        "outputId": "bea2f56c-3fa8-4bf4-eed1-3375bde3c698"
      },
      "execution_count": 3,
      "outputs": [
        {
          "output_type": "stream",
          "name": "stdout",
          "text": [
            "Mounted at /content/drive\n"
          ]
        }
      ]
    },
    {
      "cell_type": "markdown",
      "source": [
        "**Exercise 1 - Synthetic dataset**\n",
        "\n",
        "In this exercise, you will employ a synthetic dataset (file Lab1_Ex_1_Synthtetic.hdf5), containing labelled training data and test data for two classes. For each example the first two columns represent the features, while the last column represents the label.\n",
        "\n",
        "Task: your task is to implement a k-NN classifier, which calculates the probability that a given test example belongs to each class, and outputs a class label as the class with the highest probability. You will evaluate the classifier performance computing the average classification accuracy (i.e. the fraction of test examples that have been classified correctly in respect to the full test set).\n",
        "\n",
        "In particular, you should perform the following:\n",
        "\n",
        "*   Train a k-NN classifier for different values of k.\n",
        "*   Compare accuracy on the training set and the test set. Calculating accuracy of the training set means that you will have to classify each sample in the training set as if it were a test sample; one expects that classification of training samples will perform well, and this may also be used to validate your implementation. Accuracy is defined as the ratio between the number of test samples that are correctly classified, and the total number of test samples. Create a graph using the matplotlib library showing the evolution of the accuracy for different values of k over the test set. Create a second graph to show the evolution of the accuracy for different values of k over the train set and compare the two.\n",
        "\n",
        "*   Identifying overfitting and underfitting in the obtained results. \n",
        "\n",
        "Note that, for this computer lab, you do not need to employ a validation set.\n",
        "\n",
        "**Other indications:**\n",
        "*   The student is required to implement the k-NN algorithm from scratch. Only the numpy library is allowed, while other libraries such as scikit_learn are forbidden."
      ],
      "metadata": {
        "id": "snVsJOyvonwT"
      }
    },
    {
      "cell_type": "code",
      "source": [
        "import numpy as np\n",
        "import matplotlib.pyplot as plt\n",
        "import h5py\n",
        "\n",
        "#Implement a function to compute the Euclidean distance between two vectors, and one to implement the k-NN algorithm by:\n",
        "#   - Taking a sample \n",
        "#   - Computing all the distances between the sample element and the elements of the training set\n",
        "#   - sort the the training set based on the distances to the element (the use of functions like np.argsort is allowed)\n",
        "#   - select the top k elements in terms of distance\n",
        "#   - evaluate to which class the majority of these k elements belongs to (e.g., it is possible to use the function np.unique with the option return_counts=True and the function np.argmax)"
      ],
      "metadata": {
        "id": "gqR9LW3xonHa"
      },
      "execution_count": 1,
      "outputs": []
    },
    {
      "cell_type": "code",
      "source": [
        "from numpy.core.function_base import linspace\n",
        "#Change the path to match the position of your file\n",
        "#The Dataset can be loaded using thhe file option in Google Colab (the directory icon on the left)\n",
        "Dataset1 = h5py.File('/content/drive/MyDrive/Colab Notebooks/Federico/Computer LAB 1/Lab1_Ex_1_Synthtetic.hdf5')\n",
        "Data = np.array(Dataset1.get('Dataset'))\n",
        "\n",
        "Train_Set = Data[:200,:] \n",
        "Test_Set = Data[200:,:] \n",
        "#To be completed by the student\n",
        "accuracy_test = []\n",
        "accuracy_train = []\n",
        "prediction_test = 0\n",
        "prediction_train = 0\n",
        "#Function for calculating euclidean distances (2 dimensions)\n",
        "def euclidean_distance(p, q):\n",
        "  dist = np.sqrt(np.sum(np.square(p - q)))\n",
        "  return dist\n",
        "\n",
        "#Function for K-NN Algorithm\n",
        "def K_NNClassifier(sample, k):\n",
        "  dist = []\n",
        "  neighbors = []\n",
        "  neighbors_index = []\n",
        "  #Create a vector with all the distances\n",
        "  for i in range(len(Train_Set)):\n",
        "    dist.append(euclidean_distance(sample, Train_Set[i, :2]))\n",
        "\n",
        "  neighbors_index = np.argsort(dist)\n",
        "  for i in range(k):\n",
        "    neighbors.append(Train_Set[neighbors_index[i],2]) #Vector containing the classes of the k-nearest elements\n",
        "  \n",
        "  classes,counts = np.unique(neighbors, return_counts=True) #Evaluate the majority class\n",
        "  return classes[np.argmax(counts)]\n",
        "\n",
        "#Calculate correct prediction for test and train sets \n",
        "for k in range(1,200,9):\n",
        "  prediction_test = 0\n",
        "  prediction_train = 0\n",
        "  for i in range(len(Test_Set)):\n",
        "    if K_NNClassifier(Test_Set[i, :2], k) == Test_Set[i, 2]:\n",
        "      prediction_test += 1\n",
        "    if K_NNClassifier(Train_Set[i, :2], k) == Train_Set[i, 2]:\n",
        "      prediction_train += 1\n",
        "  accuracy_test.append(prediction_test/len(Test_Set))\n",
        "  accuracy_train.append(prediction_train/len(Train_Set))\n",
        "\n",
        "k = range(1,200, 9)\n",
        "fig, ax = plt.subplots()\n",
        "ax.plot(k, accuracy_test, \"b\", label=\"Test accuracy\")\n",
        "ax.plot(k, accuracy_train, \"r\", label=\"Train accuracy\")\n",
        "plt.xlabel(\"K\")\n",
        "plt.ylabel(\"Accuracy\")\n",
        "ax.legend()\n",
        "plt.grid()\n",
        "plt.show()"
      ],
      "metadata": {
        "id": "H0BBNF3AoyU2",
        "colab": {
          "base_uri": "https://localhost:8080/",
          "height": 279
        },
        "outputId": "da08d974-534e-4248-f2da-46007b357092"
      },
      "execution_count": 59,
      "outputs": [
        {
          "output_type": "display_data",
          "data": {
            "text/plain": [
              "<Figure size 432x288 with 1 Axes>"
            ],
            "image/png": "[encoded data removed]"
          },
          "metadata": {
            "needs_background": "light"
          }
        }
      ]
    },
    {
      "cell_type": "markdown",
      "source": [
        "**Student's comments to exercise 1**\n",
        "\n",
        "*Add comments to the results of Exercise 1 here (may use LateX for formulas if needed).*"
      ],
      "metadata": {
        "id": "KyMY6gyCG4n6"
      }
    },
    {
      "cell_type": "markdown",
      "source": [
        "**Exercise 2 - Wine dataset**\n",
        "\n",
        "*Part 1*\n",
        "\n",
        "In this exercise, a real problem will be examined. The dataset used in this exercise was derived from wine quality dataset from the work \"*Modeling wine preferences by data mining from physicochemical properties*\" by P. Cortez, A. Cerdeira, F. Almeida, T. Matos and J. Reis. \n",
        "\n",
        "For each element of the dataset 11 features are provided, representing different wine characteristics, such as density, pH and alcholic content, and the final column consists of a quality evaluation on a scale from 1 to 10. More information can be found at https://archive.ics.uci.edu/ml/datasets/wine+quality.\n",
        "\n",
        "A subset of the dataset containing 400 elements is provided. Create a training set and a test set of 200 samples each. The objective is to: \n",
        "*   Predict the wine quality over the test set using the k-NN algorithm and evaluating the prediction accuracy for different values of k. Create a graph using the matplotlib library showing the evolution of the accuracy for different values of k over the test set.\n",
        "*   Identifying overfitting and underfitting in the obtained results. \n",
        "\n",
        "*Part 2*\n",
        "\n",
        "The prediction of the wine quality could also be framed as a regression. Estimate the accuracy and the Mean Square Error achieved using linear resgression. For this task is possible to use the library sklearn and the function linear_model.LinearRegression() "
      ],
      "metadata": {
        "id": "-00TK0cno8kU"
      }
    },
    {
      "cell_type": "code",
      "source": [
        "#Part 1\n",
        "\n",
        "Dataset2 = h5py.File('/content/drive/MyDrive/Colab Notebooks/Federico/Computer LAB 1/Lab1_Ex_2_wine.hdf5')\n",
        "\n",
        "Data = np.array(Dataset2.get('Dataset'))\n",
        "\n",
        "Train_Set = Data[:200,:] \n",
        "Test_Set = Data[200:,:] \n",
        "\n",
        "#To be completed by the student\n",
        "accuracy_test = []\n",
        "accuracy_train = []\n",
        "prediction_test = 0\n",
        "prediction_train = 0\n",
        "#Function for calculating euclidean distances (2 dimensions)\n",
        "def euclidean_distance(p, q):\n",
        "  dist = np.sqrt(np.sum(np.square(p - q)))\n",
        "  return dist\n",
        "\n",
        "#Function for K-NN Algorithm\n",
        "def K_NNClassifier(sample, k):\n",
        "  dist = []\n",
        "  neighbors = []\n",
        "  neighbors_index = []\n",
        "  #Create a vector with all the distances\n",
        "  for i in range(len(Train_Set)):\n",
        "    dist.append(euclidean_distance(sample, Train_Set[i, :11]))\n",
        "\n",
        "  neighbors_index = np.argsort(dist)\n",
        "  for i in range(k):\n",
        "    neighbors.append(Train_Set[neighbors_index[i],11]) #Vector containing the classes of the k-nearest elements\n",
        "  \n",
        "  classes,counts = np.unique(neighbors, return_counts=True) #Evaluate the majority class\n",
        "  return classes[np.argmax(counts)]\n",
        "\n",
        "#Calculate correct prediction for test and train sets \n",
        "for k in range(1,200,2):\n",
        "  prediction_test = 0\n",
        "  prediction_train = 0\n",
        "  for i in range(len(Test_Set)):\n",
        "    if K_NNClassifier(Test_Set[i, :11], k) == Test_Set[i, 11]:\n",
        "      prediction_test += 1\n",
        "    if K_NNClassifier(Train_Set[i, :11], k) == Train_Set[i, 11]:\n",
        "      prediction_train += 1\n",
        "  accuracy_test.append(prediction_test/len(Test_Set))\n",
        "  accuracy_train.append(prediction_train/len(Train_Set))\n",
        "\n",
        "k = range(1,200, 2)\n",
        "fig, ax = plt.subplots()\n",
        "ax.plot(k, accuracy_test, \"b\", label=\"Test accuracy\")\n",
        "ax.plot(k, accuracy_train, \"r\", label=\"Train accuracy\")\n",
        "plt.xlabel(\"K\")\n",
        "plt.ylabel(\"Accuracy\")\n",
        "ax.legend()\n",
        "plt.grid()\n",
        "plt.show()"
      ],
      "metadata": {
        "id": "umDKCqJRpBDl",
        "colab": {
          "base_uri": "https://localhost:8080/",
          "height": 279
        },
        "outputId": "833dc347-bd5e-44fa-e330-216e6c00d8c5"
      },
      "execution_count": 78,
      "outputs": [
        {
          "output_type": "display_data",
          "data": {
            "text/plain": [
              "<Figure size 432x288 with 1 Axes>"
            ],
            "image/png": "[encoded data removed]"
          },
          "metadata": {
            "needs_background": "light"
          }
        }
      ]
    },
    {
      "cell_type": "code",
      "source": [
        "#Part 2\n",
        "from sklearn import linear_model\n",
        "clf = linear_model.LinearRegression()\n",
        "\n",
        "#To be completed by the student"
      ],
      "metadata": {
        "id": "4sN3cp91pHsv"
      },
      "execution_count": null,
      "outputs": []
    },
    {
      "cell_type": "markdown",
      "source": [
        "**Student's comments to exercise 2**\n",
        "\n",
        "*Add comments to the results of Exercise 2 here (may use LateX for formulas if needed).*"
      ],
      "metadata": {
        "id": "cqYF9t2AIb4r"
      }
    },
    {
      "cell_type": "markdown",
      "source": [
        "**Exercise 3: Phoneme Dataset**\n",
        "\n",
        "In this exercise the Phoneme dataset is examined https://catalog.ldc.upenn.edu/LDC93s1. Each line represents 256 samples gathered at a 16 kHz of different speech signals. The objective is to classify wether the sound emitted is a \"sh\", \"iy\", \"dcl\", \"aa\", \"ao\" phoneme.  \n",
        "\n",
        "Again, a subset of the dataset containing 400 elements is provided. Create a training set and a test set of 200 samples each. \n",
        "\n",
        "\n",
        "*   Classify the samples which compose the test set using the k-NN algorithm and evaluate the prediction accuracy for different values of k. Create a graph using the matplotlib library showing the evolution of the accuracy for different values of k over the test set.\n",
        "*   Identifying overfitting and underfitting in the obtained results. "
      ],
      "metadata": {
        "id": "6saN9xgEpGH2"
      }
    },
    {
      "cell_type": "code",
      "source": [
        "Dataset3 = h5py.File('/content/Lab1_Ex_3.hdf5')\n",
        "\n",
        "Data = np.array(Dataset3.get('Dataset'))\n",
        "\n",
        "Train_Set = Data[:200,:] \n",
        "Test_Set = Data[200:,:] \n",
        "\n",
        "#To be completed by the student"
      ],
      "metadata": {
        "id": "SSQL6rM-pV9O"
      },
      "execution_count": null,
      "outputs": []
    },
    {
      "cell_type": "markdown",
      "source": [
        "**Student's comments to exercise 3**\n",
        "\n",
        "*Add comments to the results of Exercise 3 here (may use LateX for formulas if needed).*"
      ],
      "metadata": {
        "id": "t-ZPSq-XIoEb"
      }
    }
  ]
}