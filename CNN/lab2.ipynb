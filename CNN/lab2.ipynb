{
  "nbformat": 4,
  "nbformat_minor": 0,
  "metadata": {
    "colab": {
      "provenance": [],
      "private_outputs": true,
      "include_colab_link": true
    },
    "kernelspec": {
      "name": "python3",
      "display_name": "Python 3"
    },
    "accelerator": "GPU"
  },
  "cells": [
    {
      "cell_type": "markdown",
      "metadata": {
        "id": "view-in-github",
        "colab_type": "text"
      },
      "source": [
        "<a href=\"https://colab.research.google.com/github/federicovolponi/SLNN/blob/main/CNN/lab2.ipynb\" target=\"_parent\"><img src=\"https://colab.research.google.com/assets/colab-badge.svg\" alt=\"Open In Colab\"/></a>"
      ]
    },
    {
      "cell_type": "markdown",
      "metadata": {
        "id": "AgaqxrCBIHWO"
      },
      "source": [
        "# Transfer learning - Cats vs. Dogs"
      ]
    },
    {
      "cell_type": "code",
      "source": [
        "from google.colab import drive\n",
        "drive.mount('/content/drive')"
      ],
      "metadata": {
        "id": "MnIiMEPcewbR"
      },
      "execution_count": null,
      "outputs": []
    },
    {
      "cell_type": "markdown",
      "metadata": {
        "id": "WBmnWkSRslRb"
      },
      "source": [
        "Unzip data"
      ]
    },
    {
      "cell_type": "code",
      "metadata": {
        "id": "Aizfyvfms_nt"
      },
      "source": [
        "!unzip /content/drive/MyDrive/ColabNotebooks/Federico/Neuralnetworks/Lab2/train.zip -d train/\n",
        "!unzip /content/drive/MyDrive/ColabNotebooks/Federico/Neuralnetworks/Lab2/test.zip -d test/"
      ],
      "execution_count": null,
      "outputs": []
    },
    {
      "cell_type": "markdown",
      "metadata": {
        "id": "qwPKXzBdsSai"
      },
      "source": [
        "Code to initiliaze Tensorflow 2.0 in Colab"
      ]
    },
    {
      "cell_type": "code",
      "metadata": {
        "id": "4RHeyqF6rev2"
      },
      "source": [
        "from __future__ import absolute_import, division, print_function, unicode_literals\n",
        "%tensorflow_version 2.x\n",
        "import tensorflow as tf\n",
        "%load_ext tensorboard\n",
        "import datetime\n",
        "import numpy as np\n",
        "%matplotlib inline\n",
        "import matplotlib.pyplot as plt"
      ],
      "execution_count": null,
      "outputs": []
    },
    {
      "cell_type": "markdown",
      "metadata": {
        "id": "_9TtiitutEm8"
      },
      "source": [
        "**[TODO] Create a data loader function that returns a tuple with a tf.float32 tensor for the image and a label. Images must be resized to 128x128.**\n",
        "**N.B.: filenames are formatted as class.number.jpg**"
      ]
    },
    {
      "cell_type": "code",
      "source": [
        "def loader(filename):\n",
        "  label = tf.strings.to_number(tf.strings.split(tf.strings.split(filename, '.')[0], '/')[-1])\n",
        "  image = tf.io.read_file(filename)\n",
        "  image = tf.image.decode_jpeg(image)\n",
        "  image = tf.image.convert_image_dtype(image, tf.float32)\n",
        "  image = tf.image.resize(image, [128, 128])\n",
        "  return image, label"
      ],
      "metadata": {
        "id": "-5_Ov1pWkhz2"
      },
      "execution_count": null,
      "outputs": []
    },
    {
      "cell_type": "markdown",
      "metadata": {
        "id": "KYbzGd5rcyeN"
      },
      "source": [
        "**[TODO] Create a tf.Dataset, map the loader function and prepare a batch object for training**"
      ]
    },
    {
      "cell_type": "code",
      "metadata": {
        "id": "WlFW9kPUtpys"
      },
      "source": [
        "img_train = tf.data.Dataset.list_files(\"/content/train/*.jpg\")\n",
        "img_test = tf.data.Dataset.list_files(\"/content/test/*.jpg\")\n",
        "img_dataset = img_train.map(loader).batch(16)\n",
        "img_testSet = img_test.map(loader).batch(16)"
      ],
      "execution_count": null,
      "outputs": []
    },
    {
      "cell_type": "markdown",
      "metadata": {
        "id": "riIKsGjMK2KT"
      },
      "source": [
        "**Prepare Keras callback for Tensorboard**"
      ]
    },
    {
      "cell_type": "code",
      "metadata": {
        "id": "Grf-GiJFK-sS"
      },
      "source": [
        "logdir = \"logs/scalars/\" + datetime.datetime.now().strftime(\"%Y%m%d-%H%M%S\")\n",
        "%tensorboard --logdir logs\n",
        "tensorboard_callback = tf.keras.callbacks.TensorBoard(log_dir=logdir, update_freq='batch')"
      ],
      "execution_count": null,
      "outputs": []
    },
    {
      "cell_type": "markdown",
      "metadata": {
        "id": "IVlXyF_8xGsW"
      },
      "source": [
        "**[TODO] Import the MobileNetV2 model trained on ImageNet without the final layer**"
      ]
    },
    {
      "cell_type": "code",
      "metadata": {
        "id": "5C6JfgQNxf9P"
      },
      "source": [
        "base_model = tf.keras.applications.MobileNetV2(input_shape=(128,128,3), include_top=False, weights='imagenet')\n",
        "base_model.trainable = False"
      ],
      "execution_count": null,
      "outputs": []
    },
    {
      "cell_type": "markdown",
      "metadata": {
        "id": "7R4fFS0HcX-t"
      },
      "source": [
        "**[TODO] Add a final classification layer for 2 classes and create the final Keras model**"
      ]
    },
    {
      "cell_type": "code",
      "metadata": {
        "id": "GDvBDCVFcXmo"
      },
      "source": [
        "x = base_model.input\n",
        "h = base_model(x)\n",
        "y = tf.keras.layers.Flatten()(h)\n",
        "y = tf.keras.layers.Dense(2 , activation='softmax')(y)\n",
        "model = tf.keras.Model(inputs=x, outputs=y)"
      ],
      "execution_count": null,
      "outputs": []
    },
    {
      "cell_type": "markdown",
      "metadata": {
        "id": "L5Arv2jyxgSz"
      },
      "source": [
        "**[TODO] Compile the Keras model: specify the optimization algorithm, the loss function and the test metric**"
      ]
    },
    {
      "cell_type": "code",
      "metadata": {
        "id": "JM9_th7SxlmM"
      },
      "source": [
        "model.compile(optimizer=tf.keras.optimizers.Adam(0.0001), loss='sparse_categorical_crossentropy', metrics=['accuracy'])"
      ],
      "execution_count": null,
      "outputs": []
    },
    {
      "cell_type": "markdown",
      "metadata": {
        "id": "wgY8SK7MxmBE"
      },
      "source": [
        "**[TODO] Train the Keras model**"
      ]
    },
    {
      "cell_type": "code",
      "metadata": {
        "id": "H8-x6iwSxqqM"
      },
      "source": [
        "model.fit(img_dataset, epochs=5, callbacks=tensorboard_callback)"
      ],
      "execution_count": null,
      "outputs": []
    },
    {
      "cell_type": "markdown",
      "metadata": {
        "id": "0QhCHMnVFWv3"
      },
      "source": [
        "**[TODO] Print model summary**"
      ]
    },
    {
      "cell_type": "code",
      "metadata": {
        "id": "VqTgD3xRFaJN"
      },
      "source": [
        "model.summary()"
      ],
      "execution_count": null,
      "outputs": []
    },
    {
      "cell_type": "markdown",
      "metadata": {
        "id": "Uva5AeZrxrf0"
      },
      "source": [
        "**[TODO] Test the Keras model by computing the accuracy the whole test set**"
      ]
    },
    {
      "cell_type": "code",
      "metadata": {
        "id": "5536AAv7x1Al"
      },
      "source": [
        "model.evaluate(img_testSet)"
      ],
      "execution_count": null,
      "outputs": []
    },
    {
      "cell_type": "markdown",
      "metadata": {
        "id": "eWMWEosqqX1b"
      },
      "source": [
        "**[TODO] Load Test image 'test/0.47.jpg', visualize it and check the network prediction**"
      ]
    },
    {
      "cell_type": "code",
      "metadata": {
        "id": "OMVCrCxsqkh_"
      },
      "source": [
        "animals = ['cat', 'dog']\n",
        "img, lab = loader(\"/content/test/0.1047.jpg\")\n",
        "plt.imshow(img)\n",
        "pred = model.predict(tf.expand_dims(img,0))\n",
        "print(\"This is a\", animals[np.argmax(pred)])"
      ],
      "execution_count": null,
      "outputs": []
    }
  ]
}